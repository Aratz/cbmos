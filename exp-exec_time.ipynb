{
 "cells": [
  {
   "cell_type": "code",
   "execution_count": 1,
   "metadata": {},
   "outputs": [],
   "source": [
    "import parse\n",
    "import numpy as np\n",
    "import matplotlib.pyplot as plt\n",
    "\n",
    "plt.style.use('seaborn-whitegrid')\n",
    "plt.style.use('tableau-colorblind10')\n",
    "params = {'legend.fontsize': 'xx-large',\n",
    "          'figure.figsize': (6.75, 5),\n",
    "          'lines.linewidth': 3.0,\n",
    "         'axes.labelsize': 'xx-large',\n",
    "         'axes.titlesize':'xx-large',\n",
    "         'xtick.labelsize':'xx-large',\n",
    "         'ytick.labelsize':'xx-large',\n",
    "         'font.size': 12}\n",
    "plt.rcParams.update(params)"
   ]
  },
  {
   "cell_type": "code",
   "execution_count": 2,
   "metadata": {},
   "outputs": [],
   "source": [
    "datafiles = [\n",
    "    'data/very_large_monolayer_0.0050_EF_cubic_3.txt',\n",
    "    'data/very_large_monolayer_0.0063_EF_pwquad_3.txt',\n",
    "    'data/very_large_monolayer_0.0122_EF_GLS_3.txt',\n",
    "    'data/very_large_monolayer_0.0191_AB_cubic_3.txt',\n",
    "    'data/very_large_monolayer_0.0238_MD_cubic_3.txt',\n",
    "    'data/very_large_monolayer_0.0298_AB_cubic_2.txt',\n",
    "    'data/very_large_monolayer_0.0373_AB_pwquad_3.txt',\n",
    "    'data/very_large_monolayer_0.0373_MD_pwquad_3.txt',\n",
    "    'data/very_large_monolayer_0.0466_AB_pwquad_2.txt',\n",
    "    'data/very_large_monolayer_0.0466_EF_cubic_2.txt',\n",
    "    'data/very_large_monolayer_0.0466_MD_cubic_2.txt',\n",
    "    'data/very_large_monolayer_0.0582_AB_GLS_3.txt',\n",
    "    'data/very_large_monolayer_0.0582_MD_GLS_3.txt',\n",
    "    'data/very_large_monolayer_0.0728_AB_GLS_2.txt',\n",
    "    'data/very_large_monolayer_0.0728_EF_pwquad_2.txt',\n",
    "    'data/very_large_monolayer_0.0728_MD_pwquad_2.txt',\n",
    "    'data/very_large_monolayer_0.1137_EF_GLS_2.txt',\n",
    "    'data/very_large_monolayer_0.1421_MD_GLS_2.txt',\n",
    "]"
   ]
  },
  {
   "cell_type": "code",
   "execution_count": 3,
   "metadata": {},
   "outputs": [],
   "source": [
    "def ms2s(ms):\n",
    "    \"\"\"\n",
    "    Convert (min, s) tuple to s\n",
    "    \"\"\"\n",
    "    return 60*ms[0] + ms[1]"
   ]
  },
  {
   "cell_type": "code",
   "execution_count": 4,
   "metadata": {},
   "outputs": [],
   "source": [
    "data = {}\n",
    "\n",
    "for filename in datafiles:\n",
    "    exp, _dt, solver, force, err = parse.parse(\"{}_{:g}_{}_{}_{}.txt\", filename.split('/')[-1])\n",
    "    with open(filename, 'r') as f:\n",
    "        data[(exp, solver, force, err)] = [\n",
    "                ms2s(parse.parse(\"{:g}m{:g}s\", line))\n",
    "                for line in f.readlines()]"
   ]
  },
  {
   "cell_type": "code",
   "execution_count": 5,
   "metadata": {},
   "outputs": [],
   "source": [
    "solvers = [\"EF\", \"AB\", \"MD\"]\n",
    "exp = \"very_large_monolayer\"\n",
    "forces = [\"cubic\", \"pwquad\", \"GLS\"]\n",
    "err = '3'\n",
    "\n",
    "defcolors = plt.rcParams['axes.prop_cycle'].by_key()['color']\n",
    "colors = {'cubic': defcolors[0], 'pwquad': defcolors[5], 'GLS': defcolors[6]}\n",
    "labels = {\"cubic\": 'cubic', \"pwquad\": 'pw. quad.', \"GLS\": 'GLS'}"
   ]
  },
  {
   "cell_type": "code",
   "execution_count": 6,
   "metadata": {},
   "outputs": [
    {
     "data": {
      "image/png": "[encoded data removed]",
      "text/plain": [
       "<Figure size 486x360 with 1 Axes>"
      ]
     },
     "metadata": {},
     "output_type": "display_data"
    }
   ],
   "source": [
    "partial_mean = {force: [\n",
    "        np.mean(v)\n",
    "        for v in [data[(exp, solver, force, err)] for solver in solvers]]\n",
    "    for force in forces}\n",
    "\n",
    "partial_std = {force: [\n",
    "        np.std(v)\n",
    "        for v in [data[(exp, solver, force, err)] for solver in solvers]]\n",
    "    for force in forces}\n",
    "\n",
    "barwidth = 0.25\n",
    "pos = [np.arange(len(solvers))]\n",
    "for _ in range(len(forces)-1):\n",
    "    pos.append(pos[-1] + barwidth)\n",
    "\n",
    "for p, force in zip(pos, forces):\n",
    "    plt.bar(p, partial_mean[force],\n",
    "            yerr=partial_std[force],\n",
    "            width=barwidth, label=labels[force], color=colors[force])\n",
    "\n",
    "plt.xticks(pos[1], solvers)\n",
    "\n",
    "#plt.title(f\"Execution time for a 200-cell monolayer, with error set at 10^-3\")\n",
    "plt.legend(loc=0)\n",
    "plt.ylabel(\"Wallclock time [s]\")\n",
    "plt.savefig(f\"{exp}-{err}.pdf\", bbox_inches='tight')\n",
    "plt.savefig(f\"{exp}-{err}.eps\", bbox_inches='tight')"
   ]
  },
  {
   "cell_type": "code",
   "execution_count": null,
   "metadata": {},
   "outputs": [],
   "source": []
  },
  {
   "cell_type": "code",
   "execution_count": null,
   "metadata": {},
   "outputs": [],
   "source": []
  }
 ],
 "metadata": {
  "kernelspec": {
   "display_name": "Python 3",
   "language": "python",
   "name": "python3"
  },
  "language_info": {
   "codemirror_mode": {
    "name": "ipython",
    "version": 3
   },
   "file_extension": ".py",
   "mimetype": "text/x-python",
   "name": "python",
   "nbconvert_exporter": "python",
   "pygments_lexer": "ipython3",
   "version": "3.6.7"
  }
 },
 "nbformat": 4,
 "nbformat_minor": 2
}
